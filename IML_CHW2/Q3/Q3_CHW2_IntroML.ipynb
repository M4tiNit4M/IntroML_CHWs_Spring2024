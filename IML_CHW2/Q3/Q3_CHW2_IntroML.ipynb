{
 "cells": [
  {
   "cell_type": "markdown",
   "id": "5f42a3ce",
   "metadata": {},
   "source": [
    "<h1 align=\"center\">Introduction to Machine Learning - 25737-2</h1>\n",
    "<h4 align=\"center\">Dr. R. Amiri</h4>\n",
    "<h4 align=\"center\">Sharif University of Technology, Spring 2024</h4>\n",
    "\n",
    "\n",
    "**<font color='red'>Plagiarism is strongly prohibited!</font>**\n",
    "\n",
    "\n",
    "**Student Name**: **<font color='blue'>Matin Alinejad**\n",
    "\n",
    "**Student ID**: **<font color='green'>99101943**\n",
    "\n",
    "\n",
    "\n"
   ]
  },
  {
   "cell_type": "markdown",
   "id": "a01c559e",
   "metadata": {},
   "source": [
    "## Importing Libraries\n",
    "\n",
    "First we import libraries that we need for this assignment."
   ]
  },
  {
   "cell_type": "code",
   "execution_count": 39,
   "id": "0423187e",
   "metadata": {},
   "outputs": [],
   "source": [
    "import numpy as np\n",
    "import pandas as pd\n",
    "import matplotlib.pyplot as plt\n",
    "\n",
    "# import any other libraries needed below\n",
    "\n",
    "from sklearn.naive_bayes import GaussianNB\n",
    "from sklearn.metrics import accuracy_score\n",
    "from sklearn.discriminant_analysis import LinearDiscriminantAnalysis"
   ]
  },
  {
   "cell_type": "markdown",
   "id": "2f795731",
   "metadata": {},
   "source": [
    "## Reading Data and Preprocessing\n",
    "\n",
    "In this section, we want to read data from a CSV file and then preprocess it to make it ready for the rest of the problem.\n",
    "\n",
    "First, we read the data in the cell below and extract an $m \\times n$ matrix, $X$, and an $m \\times 1$ vector, $Y$, from it, which represent our knowledge about the features of the data (`X1`, `X2`, `X3`) and the class (`Y`), respectively. Note that by $m$, we mean the number of data points and by $n$, we mean the number of features."
   ]
  },
  {
   "cell_type": "code",
   "execution_count": 19,
   "id": "410e750d",
   "metadata": {},
   "outputs": [
    {
     "name": "stdout",
     "output_type": "stream",
     "text": [
      "(10000, 3)\n",
      "(10000,)\n"
     ]
    }
   ],
   "source": [
    "X, Y = None, None\n",
    "\n",
    "### START CODE HERE ###\n",
    "\n",
    "data = pd.read_csv('data_logistic.csv')\n",
    "\n",
    "X = data[['X1', 'X2', 'X3']].values\n",
    "Y = data['Y'].values\n",
    "\n",
    "### END CODE HERE ###\n",
    "\n",
    "print(X.shape)\n",
    "print(Y.shape)"
   ]
  },
  {
   "cell_type": "markdown",
   "id": "866734e2",
   "metadata": {},
   "source": [
    "Next, we should normalize our data. For normalizing a vector $\\mathbf{x}$, a very common method is to use this formula:\n",
    "\n",
    "$$\n",
    "\\mathbf{x}_{norm} = \\dfrac{\\mathbf{x} - \\overline{\\mathbf{x}}}{\\sigma_\\mathbf{x}}\n",
    "$$\n",
    "\n",
    "Here, $\\overline{x}$ and $\\sigma_\\mathbf{x}$ denote the mean and standard deviation of vector $\\mathbf{x}$, respectively. Use this formula and store the new $X$ and $Y$ vectors in the cell below.\n",
    "\n",
    "**Question**: Briefly explain why we need to normalize our data before starting the training.\n",
    "\n",
    "**Answer**:\n",
    "### Why Normalize Data\n",
    "\n",
    "Normalization is an important preprocessing step in many machine learning algorithms for several reasons:\n",
    "\n",
    "1. **Scale Uniformity**: Different features often have different units and scales (e.g., dollars vs. percentage). Normalization brings all variables to the same scale, preventing features with larger scales from dominating the learning process.\n",
    "\n",
    "2. **Improved Convergence**: In optimization algorithms used in learning methods like gradient descent, having features on the same scale can accelerate convergence towards the minimum.\n",
    "\n",
    "3. **Algorithm Requirements**: Some algorithms, like k-nearest neighbors and gradient descent-based methods (used in neural networks and linear/logistic regression), assume data is on a comparable scale for effective performance.\n",
    "\n",
    "4. **Avoiding Biases**: If features are not normalized, the model might become biased towards features with higher magnitude, potentially leading to a model that doesn't generalize well.\n",
    "\n",
    "Normalization ensures that each feature contributes equally to the solution, improving model fairness and effectiveness across various machine learning models."
   ]
  },
  {
   "cell_type": "code",
   "execution_count": 20,
   "id": "9e757eb0",
   "metadata": {},
   "outputs": [
    {
     "name": "stdout",
     "output_type": "stream",
     "text": [
      "Normalized X shape: (10000, 3)\n",
      "Normalized Y shape: (10000,)\n"
     ]
    }
   ],
   "source": [
    "### START CODE HERE ###\n",
    "\n",
    "# Normalizing features\n",
    "X_mean = np.mean(X, axis = 0)\n",
    "X_std = np.std(X, axis = 0)\n",
    "X_normalized = (X - X_mean) / X_std\n",
    "\n",
    "# Optionally normalizing target, if it's a continuous variable\n",
    "Y_mean = np.mean(Y, axis = 0)\n",
    "Y_std = np.std(Y, axis = 0)\n",
    "Y_normalized = (Y - Y_mean) / Y_std\n",
    "\n",
    "# Update X and Y if normalized\n",
    "X = X_normalized\n",
    "Y = Y_normalized\n",
    "\n",
    "print(\"Normalized X shape:\", X.shape)\n",
    "print(\"Normalized Y shape:\", Y.shape)\n",
    "\n",
    "### END CODE HERE ###"
   ]
  },
  {
   "cell_type": "markdown",
   "id": "5465bfa4",
   "metadata": {},
   "source": [
    "Finally, we should add a column of $1$s at the beginning of $X$ to represent the bias term. Do this in the next cell. Note that after this process, $X$ should be an $m \\times (n+1)$ matrix."
   ]
  },
  {
   "cell_type": "code",
   "execution_count": 21,
   "id": "b9a60f1f",
   "metadata": {},
   "outputs": [
    {
     "name": "stdout",
     "output_type": "stream",
     "text": [
      "(10000, 4)\n"
     ]
    }
   ],
   "source": [
    "### START CODE HERE ###\n",
    "\n",
    "# Adding a column of ones to the beginning of the matrix X\n",
    "X_with_bias = np.hstack([np.ones((X.shape[0], 1)), X])\n",
    "\n",
    "# Updating X to the new matrix with the bias term\n",
    "X = X_with_bias\n",
    "\n",
    "### END CODE HERE ###\n",
    "\n",
    "print(X.shape)"
   ]
  },
  {
   "cell_type": "markdown",
   "id": "5cdf0d78",
   "metadata": {},
   "source": [
    "## Training Model"
   ]
  },
  {
   "cell_type": "markdown",
   "id": "c8714abe",
   "metadata": {},
   "source": [
    "### Sigmoid Function\n",
    "You should begin by implementing the $\\sigma(\\mathbf{x})$ function. Recall that the logistic regression hypothesis $\\mathcal{h}()$ is defined as:\n",
    "$$\n",
    "\\mathcal{h}_{\\theta}(\\mathbf{x}) = \\mathcal{g}(\\theta^\\mathbf{T}\\mathbf{x})\n",
    "$$\n",
    "where $\\mathcal{g}()$ is the sigmoid function as:\n",
    "$$\n",
    "\\mathcal{g}(\\mathbf{z}) = \\frac{1}{1+exp^{-\\mathbf{z}}}\n",
    "$$\n",
    "The Sigmoid function has the property that $\\mathbf{g}(+\\infty)\\approx 1$ and $\\mathcal{g}(−\\infty)\\approx0$. Test your function by calling `sigmoid(z)` on different test samples. Be certain that your sigmoid function works with both vectors and matrices - for either a vector or a matrix, your function should perform the sigmoid function on every element."
   ]
  },
  {
   "cell_type": "code",
   "execution_count": 22,
   "id": "6a6b6ae4",
   "metadata": {},
   "outputs": [
    {
     "name": "stdout",
     "output_type": "stream",
     "text": [
      "Sigmoid(Scalar): 0.5\n",
      "Sigmoid(Vector): [0.73105858 0.26894142 0.5       ]\n",
      "Sigmoid(Matrix): [[0.73105858 0.88079708]\n",
      " [0.26894142 0.11920292]]\n"
     ]
    }
   ],
   "source": [
    "def sigmoid(Z):\n",
    "    '''\n",
    "    Applies the sigmoid function on every element of Z\n",
    "    Arguments:\n",
    "        Z can be a (n,) vector or (n , m) matrix\n",
    "    Returns:\n",
    "        A vector/matrix, same shape with Z, that has the sigmoid function applied elementwise\n",
    "    '''\n",
    "    ### START CODE HERE ###\n",
    "    return 1 / (1 + np.exp(-Z))\n",
    "    ### END CODE HERE ###\n",
    "    \n",
    "    \n",
    "# Example usage of the sigmoid function:\n",
    "z_scalar = 0                             # Test with a scalar\n",
    "z_vector = np.array([1, -1, 0])          # Test with a vector\n",
    "z_matrix = np.array([[1, 2], [-1, -2]])  # Test with a matrix\n",
    "\n",
    "print(\"Sigmoid(Scalar):\", sigmoid(z_scalar))\n",
    "print(\"Sigmoid(Vector):\", sigmoid(z_vector))\n",
    "print(\"Sigmoid(Matrix):\", sigmoid(z_matrix))"
   ]
  },
  {
   "cell_type": "markdown",
   "id": "83846074",
   "metadata": {},
   "source": [
    "### Cost Function \n",
    "Implement the functions to compute the cost function. Recall the cost function for logistic regression is a scalar value given by:\n",
    "$$\n",
    "\\mathcal{J}(\\theta) = \\sum_{i=1}^{n}[-y^{(i)}\\log{(\\mathcal{h}_\\theta(\\mathbf{x}^{(i)}))}-(1-y^{(i)})\\log{(1-\\mathcal{h}_\\theta(\\mathbf{x}^{(i)}))}] + \\frac{\\lambda}{2}||\\theta||_2^2\n",
    "$$"
   ]
  },
  {
   "cell_type": "code",
   "execution_count": 23,
   "id": "26a9bdeb",
   "metadata": {},
   "outputs": [],
   "source": [
    "def computeCost(theta, X, y, regLambda):\n",
    "    '''\n",
    "    Computes the objective function\n",
    "    Arguments:\n",
    "        theta is d-dimensional numpy vector\n",
    "        X is a n-by-d numpy matrix\n",
    "        y is an n-dimensional numpy vector\n",
    "        regLambda is the scalar regularization constant\n",
    "    Returns:\n",
    "        a scalar value of the cost  ** make certain you're not returning a 1 x 1 matrix! **\n",
    "    '''\n",
    "    \n",
    "    m, n = X.shape\n",
    "    loss = None\n",
    "    ### START CODE HERE ###\n",
    "    m = len(y)  # Number of training examples\n",
    "    # Ensure theta is a numpy array of shape (n,)\n",
    "    theta = np.array(theta).flatten()\n",
    "    \n",
    "    # Hypothesis function h_theta(x)\n",
    "    h = sigmoid(X @ theta)\n",
    "    \n",
    "    # Compute the logistic regression cost\n",
    "    term1 = -y * np.log(h)\n",
    "    term2 = (1 - y) * np.log(1 - h)\n",
    "    cost = np.sum(term1 - term2) / m\n",
    "    \n",
    "    # Regularization term, excluding the bias term theta[0]\n",
    "    reg_term = (regLambda / (2 * m)) * np.sum(theta[1:] ** 2)\n",
    "    \n",
    "    # Total cost\n",
    "    loss = cost + reg_term\n",
    "    \n",
    "    ### END CODE HERE ###\n",
    "    return loss"
   ]
  },
  {
   "cell_type": "markdown",
   "id": "6eaf1146",
   "metadata": {},
   "source": [
    "### Gradient of the Cost Function\n",
    "Now, we want to calculate the gradient of the cost function. The gradient of the cost function is a d-dimensional vector.\\\n",
    "We must be careful not to regularize the $\\theta_0$ parameter (corresponding to the first feature we add to each instance), and so the 0's element is given by:\n",
    "$$\n",
    "\\frac{\\partial \\mathcal{J}(\\theta)}{\\partial \\theta_0} = \\sum_{i=1}^n (\\mathcal{h}_\\theta(\\mathbf{x}^{(i)})-y^{(i)})\n",
    "$$\n",
    "\n",
    "Question: What is the answer to this problem for the $j^{th}$ element (for $j = 1, \\cdots, d$)?\n",
    "\n",
    "Answer:\n",
    "For the \\( j^{th} \\) element of the gradient vector of the cost function (for \\( j = 1 \\ldots d \\)), where \\( d \\) is the number of features including the bias term, the gradient is calculated as follows:\n",
    "\n",
    "$$\n",
    "\\frac{\\partial \\mathcal{J}(\\theta)}{\\partial \\theta_j} = \\frac{1}{m} \\sum_{i=1}^m (\\mathcal{h}_\\theta(\\mathbf{x}^{(i)}) - y^{(i)})x^{(i)}_j + \\frac{\\lambda}{m} \\theta_j\n",
    "$$\n",
    "\n",
    "This formula shows that the gradient component for each parameter $\\theta_j$ (excluding $\\theta_0$) includes the average of the product of the prediction error $(\\mathcal{h}_\\theta(\\mathbf{x}^{(i)}) - y^{(i)})$ and the feature value $x^{(i)}_j$, adjusted by the regularization term $\\frac{\\lambda}{m} \\theta_j$. The regularization term helps prevent overfitting by penalizing large values of the parameters."
   ]
  },
  {
   "cell_type": "code",
   "execution_count": 24,
   "id": "35f7c2dd",
   "metadata": {},
   "outputs": [],
   "source": [
    "def computeGradient(theta, X, y, regLambda):\n",
    "    '''\n",
    "    Computes the gradient of the objective function\n",
    "    Arguments:\n",
    "        theta is d-dimensional numpy vector\n",
    "        X is a n-by-d numpy matrix\n",
    "        y is an n-dimensional numpy vector\n",
    "        regLambda is the scalar regularization constant\n",
    "    Returns:\n",
    "        the gradient, an d-dimensional vector\n",
    "    '''\n",
    "    \n",
    "    m, n = X.shape\n",
    "    grad = None\n",
    "    ### START CODE HERE ###\n",
    "    h = sigmoid(X @ theta)  # Hypothesis vector\n",
    "    errors = h - y          # Prediction errors\n",
    "    \n",
    "    # Gradient calculation for all parameters\n",
    "    grad = (X.T @ errors) / m\n",
    "\n",
    "    # Regularization for all parameters except for theta_0\n",
    "    reg_term = (regLambda / m) * theta\n",
    "    reg_term[0] = 0       # Do not regularize the bias term (theta_0)\n",
    "\n",
    "    # Adding regularization term\n",
    "    grad += reg_term\n",
    "    ### END CODE HERE ###\n",
    "    return grad"
   ]
  },
  {
   "cell_type": "markdown",
   "id": "24bc86bd",
   "metadata": {},
   "source": [
    "### Training and Prediction\n",
    "Once you have the cost and gradient functions complete, implemen tthe fit and predict methods.\\\n",
    "Your fit method should train the model via gradient descent, relying on the cost and gradient functions. This function should return two parameters. The first parameter is $\\theta$, and the second parameter is a `numpy` array that contains the loss in each iteration. This array is indicated by `loss_history` in the code.\\\n",
    "Instead of simply running gradient descent for a specific number of iterations, we will use a more sophisticated method: we will stop it after the solution hasconverged. Stop the gradient descent procedure when $\\theta$ stops changing between consecutive iterations. You can detect this convergence when:\n",
    "$$\n",
    "||\\theta_{new}-\\theta_{old}||_2 <= \\epsilon,\n",
    "$$\n",
    "for some small $\\epsilon$ (e.g, $\\epsilon=10E-4$).\\\n",
    "For readability, we’d recommend implementing this convergence test as a dedicated function `hasConverged`."
   ]
  },
  {
   "cell_type": "code",
   "execution_count": 25,
   "id": "cc0cad78",
   "metadata": {},
   "outputs": [],
   "source": [
    "def fit(X, y, regLambda = 0.01, alpha = 0.01, epsilon = 1e-4, maxNumIters = 100):\n",
    "    '''\n",
    "    Trains the model\n",
    "    Arguments:\n",
    "        X           is a n-by-d numpy matrix\n",
    "        y           is an n-dimensional numpy vector\n",
    "        maxNumIters is the maximum number of gradient descent iterations\n",
    "        regLambda   is the scalar regularization constant\n",
    "        epsilon     is the convergence rate\n",
    "        alpha       is the gradient descent learning rate\n",
    "    '''\n",
    "    \n",
    "    m, n = X.shape\n",
    "    theta, loss_history = None, None \n",
    "    ### START CODE HERE ###\n",
    "    theta = np.zeros(n)  # Initialize theta\n",
    "    loss_history = []  # To store the loss at each iteration\n",
    "    \n",
    "    for i in range(maxNumIters):\n",
    "        loss = computeCost(theta, X, y, regLambda)\n",
    "        loss_history.append(loss)\n",
    "        theta_new = theta - alpha * computeGradient(theta, X, y, regLambda)\n",
    "        \n",
    "        if hasConverged(theta, theta_new, epsilon):\n",
    "            theta = theta_new\n",
    "            break\n",
    "        theta = theta_new\n",
    "    ### END CODE HERE ###\n",
    "    return theta, loss_history\n",
    "\n",
    "\n",
    "\n",
    "\n",
    "def hasConverged(theta_old, theta_new, epsilon):\n",
    "    '''\n",
    "    Return if the theta converged or not\n",
    "    Arguments:\n",
    "        theta_old   is the theta calculated in prevoius iteration\n",
    "        theta_new   is the theta calculated in current iteration\n",
    "        epsilon     is the convergence rate\n",
    "    '''\n",
    "    \n",
    "    ### START CODE HERE ###\n",
    "    return np.linalg.norm(theta_new - theta_old) <= epsilon\n",
    "    ### END CODE HERE ###"
   ]
  },
  {
   "cell_type": "markdown",
   "id": "bb648852",
   "metadata": {},
   "source": [
    "Finally, we want to evaluate our loss for this problem. Complete the cell below to calculate and print the loss of each iteration and the final theta of your model."
   ]
  },
  {
   "cell_type": "code",
   "execution_count": 26,
   "id": "252e556f",
   "metadata": {
    "scrolled": true
   },
   "outputs": [
    {
     "name": "stdout",
     "output_type": "stream",
     "text": [
      "Final theta: [-0.44628617 -0.46412764  0.50530387  0.15921832]\n",
      "Loss at each iteration:\n",
      "Iteration 1: Loss = 0.6931471805599453\n",
      "Iteration 2: Loss = 0.6844231894886044\n",
      "Iteration 3: Loss = 0.6757430885565388\n",
      "Iteration 4: Loss = 0.6671066508137953\n",
      "Iteration 5: Loss = 0.6585136456832319\n",
      "Iteration 6: Loss = 0.649963839094398\n",
      "Iteration 7: Loss = 0.641456993617721\n",
      "Iteration 8: Loss = 0.6329928685988297\n",
      "Iteration 9: Loss = 0.6245712202928538\n",
      "Iteration 10: Loss = 0.6161918019985356\n",
      "Iteration 11: Loss = 0.6078543641919977\n",
      "Iteration 12: Loss = 0.5995586546600191\n",
      "Iteration 13: Loss = 0.5913044186326691\n",
      "Iteration 14: Loss = 0.5830913989151598\n",
      "Iteration 15: Loss = 0.5749193360187808\n",
      "Iteration 16: Loss = 0.5667879682907841\n",
      "Iteration 17: Loss = 0.558697032043097\n",
      "Iteration 18: Loss = 0.55064626167974\n",
      "Iteration 19: Loss = 0.5426353898228389\n",
      "Iteration 20: Loss = 0.5346641474371225\n",
      "Iteration 21: Loss = 0.5267322639528039\n",
      "Iteration 22: Loss = 0.5188394673867504\n",
      "Iteration 23: Loss = 0.51098548446185\n",
      "Iteration 24: Loss = 0.5031700407244957\n",
      "Iteration 25: Loss = 0.4953928606601025\n",
      "Iteration 26: Loss = 0.4876536678065921\n",
      "Iteration 27: Loss = 0.47995218486577423\n",
      "Iteration 28: Loss = 0.47228813381256723\n",
      "Iteration 29: Loss = 0.4646612360020009\n",
      "Iteration 30: Loss = 0.45707121227395453\n",
      "Iteration 31: Loss = 0.44951778305558504\n",
      "Iteration 32: Loss = 0.4420006684614067\n",
      "Iteration 33: Loss = 0.43451958839099075\n",
      "Iteration 34: Loss = 0.4270742626242551\n",
      "Iteration 35: Loss = 0.419664410914321\n",
      "Iteration 36: Loss = 0.41228975307791965\n",
      "Iteration 37: Loss = 0.404950009083333\n",
      "Iteration 38: Loss = 0.39764489913585943\n",
      "Iteration 39: Loss = 0.39037414376079926\n",
      "Iteration 40: Loss = 0.3831374638839594\n",
      "Iteration 41: Loss = 0.37593458090967763\n",
      "Iteration 42: Loss = 0.36876521679637364\n",
      "Iteration 43: Loss = 0.3616290941296375\n",
      "Iteration 44: Loss = 0.3545259361928661\n",
      "Iteration 45: Loss = 0.34745546703546554\n",
      "Iteration 46: Loss = 0.3404174115386371\n",
      "Iteration 47: Loss = 0.3334114954787687\n",
      "Iteration 48: Loss = 0.3264374455884568\n",
      "Iteration 49: Loss = 0.3194949896151841\n",
      "Iteration 50: Loss = 0.31258385637768266\n",
      "Iteration 51: Loss = 0.3057037758200132\n",
      "Iteration 52: Loss = 0.2988544790633929\n",
      "Iteration 53: Loss = 0.2920356984558071\n",
      "Iteration 54: Loss = 0.28524716761943947\n",
      "Iteration 55: Loss = 0.27848862149595993\n",
      "Iteration 56: Loss = 0.2717597963897074\n",
      "Iteration 57: Loss = 0.26506043000880875\n",
      "Iteration 58: Loss = 0.25839026150427385\n",
      "Iteration 59: Loss = 0.2517490315071084\n",
      "Iteration 60: Loss = 0.24513648216348852\n",
      "Iteration 61: Loss = 0.23855235716803808\n",
      "Iteration 62: Loss = 0.2319964017952547\n",
      "Iteration 63: Loss = 0.22546836292912656\n",
      "Iteration 64: Loss = 0.2189679890909865\n",
      "Iteration 65: Loss = 0.21249503046564547\n",
      "Iteration 66: Loss = 0.20604923892585283\n",
      "Iteration 67: Loss = 0.19963036805512616\n",
      "Iteration 68: Loss = 0.1932381731689966\n",
      "Iteration 69: Loss = 0.18687241133471397\n",
      "Iteration 70: Loss = 0.1805328413894556\n",
      "Iteration 71: Loss = 0.1742192239570843\n",
      "Iteration 72: Loss = 0.16793132146349798\n",
      "Iteration 73: Loss = 0.1616688981506156\n",
      "Iteration 74: Loss = 0.15543172008904135\n",
      "Iteration 75: Loss = 0.14921955518945115\n",
      "Iteration 76: Loss = 0.14303217321274173\n",
      "Iteration 77: Loss = 0.13686934577898588\n",
      "Iteration 78: Loss = 0.1307308463752328\n",
      "Iteration 79: Loss = 0.12461645036219549\n",
      "Iteration 80: Loss = 0.1185259349798636\n",
      "Iteration 81: Loss = 0.11245907935208176\n",
      "Iteration 82: Loss = 0.10641566449013062\n",
      "Iteration 83: Loss = 0.10039547329534922\n",
      "Iteration 84: Loss = 0.0943982905608342\n",
      "Iteration 85: Loss = 0.08842390297225326\n",
      "Iteration 86: Loss = 0.08247209910780691\n",
      "Iteration 87: Loss = 0.07654266943737383\n",
      "Iteration 88: Loss = 0.07063540632087306\n",
      "Iteration 89: Loss = 0.06475010400587608\n",
      "Iteration 90: Loss = 0.05888655862450074\n",
      "Iteration 91: Loss = 0.053044568189618536\n",
      "Iteration 92: Loss = 0.047223932590405415\n",
      "Iteration 93: Loss = 0.041424453587266104\n",
      "Iteration 94: Loss = 0.035645934806160656\n",
      "Iteration 95: Loss = 0.029888181732361123\n",
      "Iteration 96: Loss = 0.02415100170366624\n",
      "Iteration 97: Loss = 0.01843420390309981\n",
      "Iteration 98: Loss = 0.012737599351119285\n",
      "Iteration 99: Loss = 0.007061000897359112\n",
      "Iteration 100: Loss = 0.0014042232119330232\n"
     ]
    }
   ],
   "source": [
    "theta, loss_history = fit(X, Y) # calculating theta and loss of each iteration\n",
    "\n",
    "### START CODE HERE ###\n",
    "\n",
    "# Printing the final theta and the loss at each iteration\n",
    "print(\"Final theta:\", theta)\n",
    "print(\"Loss at each iteration:\")\n",
    "\n",
    "for i, loss in enumerate(loss_history):\n",
    "    print(f\"Iteration {i + 1}: Loss = {loss}\")\n",
    "\n",
    "### END CODE HERE ###"
   ]
  },
  {
   "cell_type": "markdown",
   "id": "f4b3fab6",
   "metadata": {},
   "source": [
    "### Testing Your Implementation\n",
    "To test your logistic regression implementation, first you should use `train_test_split` function to split dataset into three parts:\n",
    "\n",
    "- 70% for the training set\n",
    "- 20% for the validation set\n",
    "- 10% for the test set\n",
    "\n",
    "Do this in the cell below."
   ]
  },
  {
   "cell_type": "code",
   "execution_count": 27,
   "id": "4518fe11",
   "metadata": {},
   "outputs": [
    {
     "name": "stdout",
     "output_type": "stream",
     "text": [
      "Shapes of the datasets:\n",
      "Training set: (7000, 4) (7000,)\n",
      "Validation set: (2000, 4) (2000,)\n",
      "Test set: (1000, 4) (1000,)\n"
     ]
    }
   ],
   "source": [
    "X_train, Y_train, X_val, Y_val, X_test, Y_test = None, None, None, None, None, None\n",
    "\n",
    "### START CODE HERE ###\n",
    "from sklearn.model_selection import train_test_split\n",
    "\n",
    "# Assume X and Y are your features and target variable respectively\n",
    "# Split the data into 90% for training + validation and 10% for testing\n",
    "X_train_val, X_test, Y_train_val, Y_test = train_test_split(X, Y, test_size = 0.1, random_state = 42)\n",
    "\n",
    "# Split the remaining 90% into training (70% of total) and validation (20% of total)\n",
    "# Since 70% of 90% is about 77.78%, we use that for the split\n",
    "X_train, X_val, Y_train, Y_val = train_test_split(X_train_val, Y_train_val, test_size = 0.2222, random_state = 42)\n",
    "\n",
    "# Printing shapes to verify\n",
    "print(\"Shapes of the datasets:\")\n",
    "print(\"Training set:\", X_train.shape, Y_train.shape)\n",
    "print(\"Validation set:\", X_val.shape, Y_val.shape)\n",
    "print(\"Test set:\", X_test.shape, Y_test.shape)\n",
    "\n",
    "### END CODE HERE ###"
   ]
  },
  {
   "cell_type": "markdown",
   "id": "f9fbe5d7",
   "metadata": {},
   "source": [
    "Then, you should complete `predict` function to find the weight vector and the loss on the test data."
   ]
  },
  {
   "cell_type": "code",
   "execution_count": 28,
   "id": "95c2fe20",
   "metadata": {},
   "outputs": [],
   "source": [
    "def predict(X, theta):\n",
    "    '''\n",
    "    Use the model to predict values for each instance in X\n",
    "    Arguments:\n",
    "        theta is d-dimensional numpy vector\n",
    "        X     is a n-by-d numpy matrix\n",
    "    Returns:\n",
    "        an n-dimensional numpy vector of the predictions, the output should be binary (use h_theta > .5)\n",
    "    '''\n",
    "    \n",
    "    Y = None\n",
    "    ### START CODE HERE ###\n",
    "    # Compute the hypothesis using the sigmoid function\n",
    "    probabilities = sigmoid(X @ theta)\n",
    "    \n",
    "    # Convert probabilities to binary output\n",
    "    Y = (probabilities > 0.5).astype(int)\n",
    "    \n",
    "    ### END CODE HERE ###\n",
    "    return Y"
   ]
  },
  {
   "cell_type": "markdown",
   "id": "246d1c02",
   "metadata": {},
   "source": [
    "Now, run the `fit` and `predict` function for different values of the learning rate and regularization constant. Plot the `loss_history` of these different values for train and test data both in the same figure.\n",
    "\n",
    "**Question**: Discuss the effect of the learning rate and regularization constant and find the best values of these parameters.\n",
    "\n",
    "**Answer**:\n",
    "### Discussion:\n",
    "\n",
    "- **Effect of Learning Rate**: \n",
    "  - A higher learning rate can lead to faster convergence but might overshoot the minimum loss, especially if too high. \n",
    "  - A very low learning rate will converge slowly, possibly requiring more iterations to reach an optimum or getting stuck before reaching it.\n",
    "- **Effect of Regularization Constant**:\n",
    "  - A higher regularization constant can prevent overfitting by penalizing large weights in \\( \\theta \\), but if too high, it might lead to underfitting, where the model is too biased.\n",
    "  - A zero or very low regularization constant might lead to overfitting, especially in cases with many features or complex models.\n",
    "\n",
    "### Finding the Best Values:\n",
    "The best values for the learning rate and regularization constant are those that provide a good balance between the speed of convergence and the minimization of both training and validation loss without overfitting or underfitting. This can be visually assessed from the plotted curves; the ideal parameters would minimize the validation loss curve without having a significant discrepancy between the training and validation loss (indicating good generalization).\n",
    "\n",
    "This approach gives a comprehensive visual and practical understanding of how different parameters affect training dynamics and model performance, helping to select the optimal values."
   ]
  },
  {
   "cell_type": "code",
   "execution_count": 29,
   "id": "cd2af382",
   "metadata": {},
   "outputs": [
    {
     "data": {
      "image/png": "[encoded data removed]",
      "text/plain": [
       "<Figure size 1008x576 with 1 Axes>"
      ]
     },
     "metadata": {
      "needs_background": "light"
     },
     "output_type": "display_data"
    }
   ],
   "source": [
    "### START CODE HERE ###\n",
    "\n",
    "# Define learning rates and regularization constants to try\n",
    "learning_rates = [0.001, 0.01, 0.1]\n",
    "regularization_constants = [0, 0.01, 0.1]\n",
    "\n",
    "# Initialize a figure for plotting\n",
    "plt.figure(figsize = (14, 8))\n",
    "\n",
    "# Loop over combinations of learning rates and regularization constants\n",
    "for alpha in learning_rates:\n",
    "    for regLambda in regularization_constants:\n",
    "        # Train the model using the training set\n",
    "        theta, train_loss_history = fit(X_train, Y_train, regLambda = regLambda, alpha = alpha)\n",
    "        \n",
    "        # Plot the training loss history\n",
    "        plt.plot(train_loss_history, label = f'Train: alpha = {alpha}, lambda = {regLambda}')\n",
    "\n",
    "# Title and labels\n",
    "plt.title('Training Loss History for Different Learning Rates and Regularization Constants')\n",
    "plt.xlabel('Number of Iterations')\n",
    "plt.ylabel('Loss')\n",
    "plt.legend()\n",
    "plt.show()\n",
    "### END CODE HERE ###"
   ]
  },
  {
   "cell_type": "markdown",
   "id": "11babf15",
   "metadata": {},
   "source": [
    "## Naive Bayes\n",
    "\n",
    "In this part, you will use the `GaussianNB` classifier to classify the data. You should not change the default parameters of this classifier. First, train the classifier on the training set and then find the accuracy of it on the test set.\n",
    "\n",
    "**Question**: What is the accuracy of this method on test set?\n",
    "\n",
    "**Answer**: Accuracy of GaussianNB on the test set: $\\mathbf{0.957}$"
   ]
  },
  {
   "cell_type": "code",
   "execution_count": 38,
   "id": "1ef450fb",
   "metadata": {},
   "outputs": [
    {
     "name": "stdout",
     "output_type": "stream",
     "text": [
      "Accuracy of GaussianNB on the test set: 0.957\n"
     ]
    }
   ],
   "source": [
    "### START CODE HERE ###\n",
    "\n",
    "# Reload or access the original Y values\n",
    "data = pd.read_csv('data_logistic.csv')\n",
    "Y_original = data['Y'].values\n",
    "\n",
    "# Assuming X has not been changed, re-split the data with the original Y\n",
    "X_train_val, X_test, Y_train_val, Y_test = train_test_split(X, Y_original, test_size = 0.1, random_state = 42)\n",
    "X_train, X_val, Y_train, Y_val = train_test_split(X_train_val, Y_train_val, test_size = 0.2222, random_state=42)\n",
    "\n",
    "# Initialize the classifier\n",
    "gnb = GaussianNB()\n",
    "\n",
    "# Train the model with the original Y values\n",
    "gnb.fit(X_train, Y_train)\n",
    "\n",
    "# Make predictions on the test set\n",
    "Y_pred = gnb.predict(X_test)\n",
    "\n",
    "# Calculate the accuracy\n",
    "accuracy = accuracy_score(Y_test, Y_pred)\n",
    "print(\"Accuracy of GaussianNB on the test set:\", accuracy)\n",
    "\n",
    "\n",
    "### END CODE HERE ###"
   ]
  },
  {
   "cell_type": "markdown",
   "id": "b371657d",
   "metadata": {},
   "source": [
    "## LDA (Linear Discriminant Analysis)\n",
    "\n",
    "In this part, you will use the `LinearDiscriminantAnalysis` classifier to classify the data. You should not change the default parameters of this classifier. First, train the classifier on the training set and then find the accuracy of it on the test set.\n",
    "\n",
    "**Question**: What is the accuracy of this method on test set?\n",
    "\n",
    "**Answer**: Accuracy of LDA on the test set: $\\mathbf{0.987}$"
   ]
  },
  {
   "cell_type": "code",
   "execution_count": 40,
   "id": "92cc8743",
   "metadata": {},
   "outputs": [
    {
     "name": "stdout",
     "output_type": "stream",
     "text": [
      "Accuracy of LDA on the test set: 0.987\n"
     ]
    }
   ],
   "source": [
    "### START CODE HERE ###\n",
    "\n",
    "# Initialize the LDA classifier\n",
    "lda = LinearDiscriminantAnalysis()\n",
    "\n",
    "# Train the LDA model\n",
    "lda.fit(X_train, Y_train)\n",
    "\n",
    "# Make predictions on the test set\n",
    "Y_pred = lda.predict(X_test)\n",
    "\n",
    "# Calculate the accuracy of the predictions\n",
    "accuracy = accuracy_score(Y_test, Y_pred)\n",
    "print(\"Accuracy of LDA on the test set:\", accuracy)\n",
    "\n",
    "### END CODE HERE ###"
   ]
  },
  {
   "cell_type": "markdown",
   "id": "47736bdf",
   "metadata": {},
   "source": [
    "## Conclusion\n",
    "\n",
    "**Question**: What is the best method for classifying this dataset? What is the best accuracy on the test set?\n",
    "\n",
    "**Answer**:\n",
    "Based on the above results that provided:\n",
    "\n",
    "- The Linear Discriminant Analysis (LDA) achieved an accuracy of 0.987 on the test set.\n",
    "- The Gaussian Naive Bayes (GNB) classifier achieved an accuracy of 0.957 on the test set.\n",
    "\n",
    "**Conclusion**:\n",
    "The best method for classifying this dataset, according to the accuracies obtained from the test set, is the Linear Discriminant Analysis (LDA). LDA provided the highest accuracy of 0.987, making it the more effective model for this specific dataset among the two methods tested."
   ]
  }
 ],
 "metadata": {
  "kernelspec": {
   "display_name": "Python 3",
   "language": "python",
   "name": "python3"
  },
  "language_info": {
   "codemirror_mode": {
    "name": "ipython",
    "version": 3
   },
   "file_extension": ".py",
   "mimetype": "text/x-python",
   "name": "python",
   "nbconvert_exporter": "python",
   "pygments_lexer": "ipython3",
   "version": "3.8.8"
  }
 },
 "nbformat": 4,
 "nbformat_minor": 5
}
