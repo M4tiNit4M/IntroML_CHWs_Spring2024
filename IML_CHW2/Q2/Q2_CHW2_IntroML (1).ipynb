{
 "cells": [
  {
   "cell_type": "markdown",
   "metadata": {
    "id": "ChC3RF8meAlK"
   },
   "source": [
    "<h1 align=\"center\">Introduction to Machine Learning - 25737-2</h1>\n",
    "<h4 align=\"center\">Dr. R. Amiri</h4>\n",
    "<h4 align=\"center\">Sharif University of Technology, Spring 2024</h4>\n",
    "\n",
    "\n",
    "**<font color='red'>Plagiarism is strongly prohibited!</font>**\n",
    "\n",
    "\n",
    "**Student Name**: **<font color='blue'>Matin Alinejad**\n",
    "\n",
    "**Student ID**: **<font color='green'>99101943**\n",
    "\n",
    "\n",
    "\n"
   ]
  },
  {
   "cell_type": "markdown",
   "metadata": {
    "id": "IraiR0SbeDi_"
   },
   "source": [
    "# Logistic Regression"
   ]
  },
  {
   "cell_type": "markdown",
   "metadata": {
    "id": "nRQjwWC3eDnc"
   },
   "source": [
    "**Task:** Implement your own Logistic Regression model, and test it on the given dataset of Logistic_question.csv!"
   ]
  },
  {
   "cell_type": "code",
   "execution_count": 7,
   "metadata": {},
   "outputs": [],
   "source": [
    "# import necessary libraries\n",
    "import numpy as np # Replace with 'import cupy as np' to run on GPU\n",
    "import pandas as pd\n",
    "from sklearn.model_selection import train_test_split\n",
    "from sklearn.preprocessing import StandardScaler\n",
    "from sklearn.metrics import accuracy_score, precision_score, recall_score, f1_score\n",
    "from sklearn.linear_model import LogisticRegression\n",
    "\n",
    "\n",
    "class MyLogisticRegression:\n",
    "    def __init__(self, learning_rate = 0.01, n_iter = 1000):\n",
    "        self.learning_rate = learning_rate\n",
    "        self.n_iter = n_iter\n",
    "        self.weights = None\n",
    "        self.bias = None\n",
    "\n",
    "    def _sigmoid(self, z):\n",
    "        return 1 / (1 + np.exp(-z))\n",
    "\n",
    "    def _loss(self, y, y_hat):\n",
    "        return -np.mean(y * np.log(y_hat) + (1 - y) * np.log(1 - y_hat))\n",
    "\n",
    "    def fit(self, X, y):\n",
    "        n_samples, n_features = X.shape\n",
    "        self.weights = np.zeros(n_features)\n",
    "        self.bias = 0\n",
    "\n",
    "        for _ in range(self.n_iter):\n",
    "            linear_model = np.dot(X, self.weights) + self.bias\n",
    "            y_predicted = self._sigmoid(linear_model)\n",
    "\n",
    "            # Compute gradients\n",
    "            dw = (1 / n_samples) * np.dot(X.T, (y_predicted - y))\n",
    "            db = (1 / n_samples) * np.sum(y_predicted - y)\n",
    "\n",
    "            # Update weights and bias\n",
    "            self.weights -= self.learning_rate * dw\n",
    "            self.bias -= self.learning_rate * db\n",
    "\n",
    "    def predict(self, X):\n",
    "        linear_model = np.dot(X, self.weights) + self.bias\n",
    "        y_predicted = self._sigmoid(linear_model)\n",
    "        return np.where(y_predicted > 0.5, 1, 0)"
   ]
  },
  {
   "cell_type": "markdown",
   "metadata": {
    "id": "S-i-oubUlZ6e"
   },
   "source": [
    "**Task:** Test your model on the given dataset. You must split your data into train and test, with a 0.2 split, then normalize your data using X_train data. Finally, report 4 different evaluation metrics of the model on the test set. (You might want to first make the Target column binary!)"
   ]
  },
  {
   "cell_type": "code",
   "execution_count": 8,
   "metadata": {
    "colab": {
     "base_uri": "https://localhost:8080/"
    },
    "id": "0KXzIy_2u-pG",
    "outputId": "9625f7e2-abb1-4591-c0fa-843525e0ffd6"
   },
   "outputs": [
    {
     "name": "stdout",
     "output_type": "stream",
     "text": [
      "Accuracy: 0.875\n",
      "Precision: 0.875\n",
      "Recall: 1.0\n",
      "F1 Score: 0.9333333333333333\n"
     ]
    }
   ],
   "source": [
    "# Your code goes here!\n",
    "\n",
    "# Load data\n",
    "data = pd.read_csv('Logistic_question.csv')\n",
    "\n",
    "# Make target binary\n",
    "data['Target'] = (data['Target'] >= 0.5).astype(int)\n",
    "\n",
    "# Split data\n",
    "X_train, X_test, y_train, y_test = train_test_split(data.iloc[:,:-1], data['Target'], test_size = 0.2, random_state = 42)\n",
    "\n",
    "# Normalize data\n",
    "scaler = StandardScaler()\n",
    "X_train = scaler.fit_transform(X_train)\n",
    "X_test = scaler.transform(X_test)\n",
    "\n",
    "# Create and train the model\n",
    "model = MyLogisticRegression()\n",
    "model.fit(X_train, y_train)\n",
    "\n",
    "# Predict and evaluate\n",
    "predictions = model.predict(X_test)\n",
    "print(\"Accuracy:\", accuracy_score(y_test, predictions))\n",
    "print(\"Precision:\", precision_score(y_test, predictions))\n",
    "print(\"Recall:\", recall_score(y_test, predictions))\n",
    "print(\"F1 Score:\", f1_score(y_test, predictions))"
   ]
  },
  {
   "cell_type": "markdown",
   "metadata": {
    "id": "Ji0RXNGKv1pa"
   },
   "source": [
    "**Question:** What are each of your used evaluation metrics? And for each one, mention situations in which they convey more data on the model performance in specific tasks."
   ]
  },
  {
   "cell_type": "markdown",
   "metadata": {
    "id": "ldveD35twRRZ"
   },
   "source": [
    "**Your answer:**\n",
    "\n",
    "The evaluation metrics used to assess the performance of the logistic regression model include accuracy, precision, recall, and the F1 score. Each of these metrics provides a different perspective on how well the model performs, especially in different contexts or for various tasks. Here's a breakdown of each metric and situations where they are particularly informative:\n",
    "\n",
    "### 1. **Accuracy**\n",
    "- **Definition**: Accuracy is the proportion of true results (both true positives and true negatives) among the total number of cases examined. It is calculated as $$\\textbf{Accuracy} = \\mathbf{\\frac{\\text{TP} + \\text{TN}}{\\text{TP} + \\text{TN} + \\text{FP} + \\text{FN}}}.$$\n",
    "\n",
    "\n",
    "- **Useful Contexts**: Accuracy is a useful measure when the classes in the dataset are well balanced. It gives a quick measure of overall correctness. However, its usefulness decreases when dealing with imbalanced datasets, as it can be misleadingly high when the majority class is predicted correctly while largely ignoring the minority class.\n",
    "\n",
    "### 2. **Precision**\n",
    "- **Definition**: Precision is the ratio of correctly predicted positive observations to the total predicted positives. It is calculated as $$\\textbf{Precision} = \\mathbf{\\frac{\\text{TP}}{\\text{TP} + \\text{FP}}}.$$\n",
    "\n",
    "\n",
    "- **Useful Contexts**: Precision is crucial in scenarios where the cost of a false positive is high. For example, in email spam detection, a high precision model minimizes the risk of classifying important emails as spam. In medical testing, high precision minimizes false positive diagnoses, which can prevent unnecessary treatments that might be expensive or harmful.\n",
    "\n",
    "### 3. **Recall** (also known as Sensitivity or True Positive Rate)\n",
    "- **Definition**: Recall is the ratio of correctly predicted positive observations to all observations in actual class - yes. It is calculated as $$\\textbf{Recall} = \\mathbf{\\frac{\\text{TP}}{\\text{TP} + \\text{FN}}}.$$\n",
    "\n",
    "\n",
    "- **Useful Contexts**: Recall is particularly important in cases where missing a positive instance is significantly worse than getting a false positive. For example, in fraud detection or disease screening, a high recall model ensures that most fraudulent activities or diseases are caught, even if some false alarms occur.\n",
    "\n",
    "### 4. **F1 Score**\n",
    "- **Definition**: The F1 Score is the weighted average of Precision and Recall. Therefore, this score takes both false positives and false negatives into account. It is calculated as $$\\textbf{F1} = \\mathbf{2 \\times \\frac{\\text{Precision} \\times \\text{Recall}}{\\text{Precision} + \\text{Recall}}}.$$\n",
    "\n",
    "\n",
    "- **Useful Contexts**: The F1 score is useful when you want to strike a balance between Precision and Recall. It is particularly useful in scenarios where an uneven class distribution exists (i.e., when there are many more negatives than positives or vice versa). For example, in customer churn prediction or in any classification task where false positives and false negatives have a significant cost.\n",
    "\n",
    "Each of these metrics helps to provide a fuller picture of how a model is performing, and depending on the specific requirements and consequences of a task, some metrics may be more important than others. The choice of which metric to prioritize should align with the business or clinical objectives, and the nature of the consequences for incorrect predictions."
   ]
  },
  {
   "cell_type": "markdown",
   "metadata": {
    "id": "1ZCeRHZSw-mh"
   },
   "source": [
    "**Task:** Now test the built-in function of Python for Logistic Regression, and report all the same metrics used before."
   ]
  },
  {
   "cell_type": "code",
   "execution_count": 9,
   "metadata": {
    "id": "Vb5lRSQXDLR3"
   },
   "outputs": [
    {
     "name": "stdout",
     "output_type": "stream",
     "text": [
      "Accuracy: 0.9375\n",
      "Precision: 0.9333333333333333\n",
      "Recall: 1.0\n",
      "F1 Score: 0.9655172413793104\n"
     ]
    }
   ],
   "source": [
    "# Your code goes here!\n",
    "\n",
    "# Initialize and train the Logistic Regression model\n",
    "model = LogisticRegression()\n",
    "model.fit(X_train, y_train)\n",
    "\n",
    "# Predict on the test set\n",
    "predictions = model.predict(X_test)\n",
    "\n",
    "# Evaluate the model\n",
    "print(\"Accuracy:\", accuracy_score(y_test, predictions))\n",
    "print(\"Precision:\", precision_score(y_test, predictions))\n",
    "print(\"Recall:\", recall_score(y_test, predictions))\n",
    "print(\"F1 Score:\", f1_score(y_test, predictions))"
   ]
  },
  {
   "cell_type": "markdown",
   "metadata": {
    "id": "RCvIymmMy_ji"
   },
   "source": [
    "**Question:** Compare your function with the built-in function. On the matters of performance and parameters. Briefly explain what the parameters of the built-in function are and how they affect the model's performance?"
   ]
  },
  {
   "cell_type": "markdown",
   "metadata": {
    "id": "EY0ohM16z3De"
   },
   "source": [
    "**Your answer:**\n",
    "\n",
    "Based on the results you've shared, it's clear that the built-in `LogisticRegression` function from scikit-learn outperforms the custom implementation on most metrics. Here’s a comparison focusing on both performance and parameters:\n",
    "\n",
    "### Performance Comparison\n",
    "- **Accuracy**: The built-in model achieved an accuracy of 93.75% compared to 87.5% from the custom model. This suggests that the built-in model generally makes more correct predictions on the given dataset.\n",
    "- **Precision**: The precision of the built-in model is slightly higher at 93.33% versus 87.5% for the custom model, indicating that the built-in model has a lower rate of false positives.\n",
    "- **Recall**: Both models achieved a recall of 100%, which means both models were able to identify all the actual positives.\n",
    "- **F1 Score**: The F1 score, which balances precision and recall, is higher for the built-in model (96.55%) compared to the custom model (93.33%). This indicates a better overall balance of precision and recall in the built-in model.\n",
    "\n",
    "### Parameters and Their Impact\n",
    "The built-in `LogisticRegression` function in scikit-learn comes with several parameters that can significantly impact the model's performance:\n",
    "\n",
    "- **`solver`**: This parameter determines the algorithm to use for optimization. Common options include 'liblinear', 'newton-cg', 'lbfgs', 'sag', and 'saga'. Each solver works best under different conditions regarding data size, dimensionality, and whether the data fits well into memory.\n",
    "  \n",
    "- **`penalty`**: Specifies the norm used in the penalization. The most common are 'l2' (default) and 'l1'. Regularization is a technique used to reduce overfitting by discouraging overly complex models in some way. The choice of penalty can affect both the performance and convergence speed of the model.\n",
    "  \n",
    "- **`C`**: This is the inverse of regularization strength—smaller values specify stronger regularization. It can control the trade-off between achieving a low training error and a low testing error that is, the trade-off between underfitting and overfitting.\n",
    "\n",
    "- **`max_iter`**: Defines the maximum number of iterations taken for the solvers to converge.\n",
    "\n",
    "- **`class_weight`**: This parameter is used to adjust the weights inversely proportional to class frequencies in the input data. It’s especially useful for dealing with imbalanced datasets.\n",
    "\n",
    "### Conclusion\n",
    "The performance difference between the custom model and the built-in model could be attributed to several factors including the optimization algorithm, regularization, and convergence criteria used by the built-in model. Scikit-learn's `LogisticRegression` likely benefits from more sophisticated numerical optimization techniques as well as better handling of class imbalance and regularization which helps to prevent overfitting.\n",
    "\n",
    "In general, while a custom implementation can be educational and give you detailed control over the modeling process, built-in functions are typically more robust, efficient, and well-optimized for general use cases. For practical applications, especially on larger datasets or complex real-world scenarios, leveraging built-in libraries like scikit-learn is advisable due to their maturity and extensive testing across various scenarios."
   ]
  },
  {
   "cell_type": "markdown",
   "metadata": {
    "id": "ClMqoYlr2kr7"
   },
   "source": [
    "# Multinomial Logistic Regression"
   ]
  },
  {
   "cell_type": "markdown",
   "metadata": {
    "id": "ukvlqDe52xP5"
   },
   "source": [
    "**Task:** Implement your own Multinomial Logistic Regression model. Your model must be able to handle any number of labels!"
   ]
  },
  {
   "cell_type": "code",
   "execution_count": 14,
   "metadata": {
    "id": "5Ir-_hFt286t"
   },
   "outputs": [],
   "source": [
    "# import necessary libraries\n",
    "import numpy as np  # Replace with 'import cupy as np' to run on GPU\n",
    "import pandas as pd\n",
    "from sklearn.model_selection import train_test_split\n",
    "from sklearn.preprocessing import StandardScaler\n",
    "from sklearn.metrics import accuracy_score\n",
    "\n",
    "class MyMultinomialLogisticRegression:\n",
    "    def __init__(self, learning_rate=0.01, n_iter=1000, n_classes=None):\n",
    "        self.learning_rate = learning_rate\n",
    "        self.n_iter = n_iter\n",
    "        self.weights = None\n",
    "        self.bias = None\n",
    "        self.n_classes = n_classes\n",
    "\n",
    "    def _softmax(self, z):\n",
    "        exp_z = np.exp(z - np.max(z, axis=1, keepdims=True))\n",
    "        return exp_z / np.sum(exp_z, axis=1, keepdims=True)\n",
    "\n",
    "    def _cross_entropy(self, y, y_hat):\n",
    "        m = y.shape[0]\n",
    "        return -np.sum(y * np.log(y_hat + 1e-8)) / m\n",
    "\n",
    "    def fit(self, X, y):\n",
    "        n_samples, n_features = X.shape\n",
    "        if self.n_classes is None:\n",
    "            self.n_classes = np.max(y) + 1\n",
    "\n",
    "        self.weights = np.zeros((n_features, self.n_classes))\n",
    "        self.bias = np.zeros((1, self.n_classes))\n",
    "\n",
    "        y_one_hot = np.eye(self.n_classes)[y]\n",
    "\n",
    "        for _ in range(self.n_iter):\n",
    "            linear_model = np.dot(X, self.weights) + self.bias\n",
    "            y_predicted = self._softmax(linear_model)\n",
    "\n",
    "            dw = (1 / n_samples) * np.dot(X.T, (y_predicted - y_one_hot))\n",
    "            db = (1 / n_samples) * np.sum(y_predicted - y_one_hot, axis=0)\n",
    "\n",
    "            self.weights -= self.learning_rate * dw\n",
    "            self.bias -= self.learning_rate * db\n",
    "\n",
    "    def predict(self, X):\n",
    "        linear_model = np.dot(X, self.weights) + self.bias\n",
    "        y_predicted = self._softmax(linear_model)\n",
    "        return np.argmax(y_predicted, axis=1)\n",
    "\n",
    "# Example usage:\n",
    "# Assuming X_train and y_train are your data and labels respectively:\n",
    "# model = MyMultinomialLogisticRegression(learning_rate=0.01, n_iter=1000)\n",
    "# model.fit(X_train, y_train)\n",
    "# predictions = model.predict(X_test)"
   ]
  },
  {
   "cell_type": "markdown",
   "metadata": {
    "id": "zPQ3Rtay3Y2_"
   },
   "source": [
    "**Task:** Test your model on the given dataset. Do the same as the previous part, but here you might want to first make the Target column quantized into $i$ levels. Change $i$ from 2 to 10."
   ]
  },
  {
   "cell_type": "code",
   "execution_count": 18,
   "metadata": {
    "id": "9aP4QJPq29B3"
   },
   "outputs": [
    {
     "name": "stdout",
     "output_type": "stream",
     "text": [
      "{2: 0.9375, 3: 0.8875, 4: 0.725, 5: 0.4875, 6: 0.475, 7: 0.375, 8: 0.4375, 9: 0.4125, 10: 0.225}\n"
     ]
    }
   ],
   "source": [
    "# Your code goes here!\n",
    "\n",
    "def quantize_target(data, levels):\n",
    "    \"\"\"This function quantizes the target data into 'levels' number of bins.\"\"\"\n",
    "    return pd.qcut(data, q = levels, labels = False, duplicates = 'drop')\n",
    "\n",
    "# Load data\n",
    "data = pd.read_csv('Logistic_question.csv')\n",
    "features = data.iloc[:,:-1]\n",
    "\n",
    "# Normalize features\n",
    "scaler = StandardScaler()\n",
    "features = scaler.fit_transform(features)\n",
    "\n",
    "results = {}\n",
    "for i in range(2, 11):  # Quantizing levels from 2 to 10\n",
    "    target = quantize_target(data['Target'], i)\n",
    "    \n",
    "    # Split data\n",
    "    X_train, X_test, y_train, y_test = train_test_split(features, target, test_size = 0.2, random_state = 42)\n",
    "    \n",
    "    # Create and train the model\n",
    "    model = MyMultinomialLogisticRegression(learning_rate=0.01, n_iter = 1000, n_classes=i)\n",
    "    model.fit(X_train, y_train)\n",
    "    \n",
    "    # Predict on the test set and evaluate\n",
    "    predictions = model.predict(X_test)\n",
    "    accuracy = accuracy_score(y_test, predictions)\n",
    "    results[i] = accuracy\n",
    "\n",
    "# Output results\n",
    "print(results)"
   ]
  },
  {
   "cell_type": "markdown",
   "metadata": {
    "id": "Of2sHl5Z4dXi"
   },
   "source": [
    "**Question:** Report for which $i$ your model performs best. Describe and analyze the results! You could use visualizations or any other method!"
   ]
  },
  {
   "cell_type": "markdown",
   "metadata": {
    "id": "cRLERDAr4wnS"
   },
   "source": [
    "**Your answer:**\n",
    "\n",
    "Based on the reported results for the multinomial logistic regression model with different quantization levels ($i$) of the target variable, we can observe that the model performs best when $i=2$. Here's a breakdown and analysis of the results:\n",
    "\n",
    "### Results Analysis\n",
    "- **Best Performance**: The highest accuracy is achieved when the target is divided into two levels ($i=2$), with an accuracy of 93.75%.\n",
    "- **Decreasing Accuracy with More Levels**: As the number of quantization levels increases, the accuracy generally decreases. This trend suggests that the model struggles with more complex classification tasks involving more classes.\n",
    "\n",
    "### Why Does Accuracy Decline?\n",
    "1. **Increased Complexity**: More levels mean more classes for the model to distinguish between. This can be more challenging, especially if the feature set does not contain enough discriminative information to separate more finely divided classes.\n",
    "2. **Data Imbalance**: Higher quantization may lead to imbalances in class distribution, which are notoriously difficult for models to handle effectively without specific interventions like balancing class weights or using different sampling techniques.\n",
    "3. **Overfitting Risks**: With more classes, the model may also be at a higher risk of overfitting, particularly if there are not enough training samples per class to generalize well.\n",
    "\n",
    "### Visualizing the Results\n",
    "To better visualize how the model's performance changes with different levels of quantization, we can plot the accuracy against the number of levels ($i$):"
   ]
  },
  {
   "cell_type": "code",
   "execution_count": 21,
   "metadata": {},
   "outputs": [
    {
     "data": {
      "image/png": "[encoded data removed]",
      "text/plain": [
       "<Figure size 720x360 with 1 Axes>"
      ]
     },
     "metadata": {
      "needs_background": "light"
     },
     "output_type": "display_data"
    }
   ],
   "source": [
    "import matplotlib.pyplot as plt\n",
    "\n",
    "levels = list(range(2, 11))\n",
    "accuracies = [0.9375, 0.8875, 0.725, 0.4875, 0.475, 0.375, 0.4375, 0.4125, 0.225]\n",
    "\n",
    "plt.figure(figsize = (10, 5))\n",
    "plt.plot(levels, accuracies, marker = 'o', linestyle = '-', color = 'b')\n",
    "plt.title('Model Performance vs. Number of Quantization Levels')\n",
    "plt.xlabel('Number of Levels ($i$)')\n",
    "plt.ylabel('Accuracy')\n",
    "plt.grid(True)\n",
    "plt.xticks(levels)\n",
    "plt.show()"
   ]
  },
  {
   "cell_type": "markdown",
   "metadata": {},
   "source": [
    "This visualization would clearly show the trend of decreasing performance with an increasing number of quantization levels.\n",
    "\n",
    "### Conclusion\n",
    "The best performance at $i=2$ could indicate that the underlying problem suits a binary classification better, or that the dataset contains features that are effectively discriminative only at a broader level. For higher values of $i$, enhancing model performance might require additional features, more complex models, or techniques specifically aimed at handling multi-class classification challenges such as adjusting class weights, increasing sample size, or employing more advanced regularization techniques.\n",
    "\n",
    "Given these results and insights, it might be beneficial to reevaluate the necessity of higher quantization levels or explore methods to better handle the increased complexity and potential data imbalances that come with them."
   ]
  }
 ],
 "metadata": {
  "colab": {
   "provenance": []
  },
  "kernelspec": {
   "display_name": "Python 3",
   "language": "python",
   "name": "python3"
  },
  "language_info": {
   "codemirror_mode": {
    "name": "ipython",
    "version": 3
   },
   "file_extension": ".py",
   "mimetype": "text/x-python",
   "name": "python",
   "nbconvert_exporter": "python",
   "pygments_lexer": "ipython3",
   "version": "3.8.8"
  }
 },
 "nbformat": 4,
 "nbformat_minor": 1
}
