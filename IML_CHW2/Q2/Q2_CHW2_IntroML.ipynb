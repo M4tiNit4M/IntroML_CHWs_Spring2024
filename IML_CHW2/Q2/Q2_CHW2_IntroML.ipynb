{
  "cells": [
    {
      "cell_type": "markdown",
      "metadata": {
        "id": "ChC3RF8meAlK"
      },
      "source": [
        "<h1 align=\"center\">Introduction to Machine Learning - 25737-2</h1>\n",
        "<h4 align=\"center\">Dr. R. Amiri</h4>\n",
        "<h4 align=\"center\">Sharif University of Technology, Spring 2024</h4>\n",
        "\n",
        "\n",
        "**<font color='red'>Plagiarism is strongly prohibited!</font>**\n",
        "\n",
        "\n",
        "**Student Name**: **<font color='blue'>Matin Alinejad**\n",
        "\n",
        "**Student ID**: **<font color='green'>99101943**\n",
        "\n",
        "\n",
        "\n"
      ]
    },
    {
      "cell_type": "markdown",
      "metadata": {
        "id": "wT43jGKV6CBZ"
      },
      "source": [
        "# Going a little further!"
      ]
    },
    {
      "cell_type": "markdown",
      "metadata": {
        "id": "Vo9uGo0R6GZo"
      },
      "source": [
        "First we download Adult income dataset from Kaggle! In order to do this create an account on this website, and create an API. A file named kaggle.json will be downloaded to your device. Then use the following code:"
      ]
    },
    {
      "cell_type": "code",
      "execution_count": null,
      "metadata": {
        "colab": {
          "base_uri": "https://localhost:8080/",
          "height": 73
        },
        "id": "o-vrjYBF7u1E",
        "outputId": "0c7c8087-1b91-49c5-d2ec-ff9bc8ad8571"
      },
      "outputs": [
        {
          "output_type": "display_data",
          "data": {
            "text/plain": [
              "<IPython.core.display.HTML object>"
            ],
            "text/html": [
              "\n",
              "     <input type=\"file\" id=\"files-eba52bd6-075e-4295-bde7-10cc8fe48aad\" name=\"files[]\" multiple disabled\n",
              "        style=\"border:none\" />\n",
              "     <output id=\"result-eba52bd6-075e-4295-bde7-10cc8fe48aad\">\n",
              "      Upload widget is only available when the cell has been executed in the\n",
              "      current browser session. Please rerun this cell to enable.\n",
              "      </output>\n",
              "      <script>// Copyright 2017 Google LLC\n",
              "//\n",
              "// Licensed under the Apache License, Version 2.0 (the \"License\");\n",
              "// you may not use this file except in compliance with the License.\n",
              "// You may obtain a copy of the License at\n",
              "//\n",
              "//      http://www.apache.org/licenses/LICENSE-2.0\n",
              "//\n",
              "// Unless required by applicable law or agreed to in writing, software\n",
              "// distributed under the License is distributed on an \"AS IS\" BASIS,\n",
              "// WITHOUT WARRANTIES OR CONDITIONS OF ANY KIND, either express or implied.\n",
              "// See the License for the specific language governing permissions and\n",
              "// limitations under the License.\n",
              "\n",
              "/**\n",
              " * @fileoverview Helpers for google.colab Python module.\n",
              " */\n",
              "(function(scope) {\n",
              "function span(text, styleAttributes = {}) {\n",
              "  const element = document.createElement('span');\n",
              "  element.textContent = text;\n",
              "  for (const key of Object.keys(styleAttributes)) {\n",
              "    element.style[key] = styleAttributes[key];\n",
              "  }\n",
              "  return element;\n",
              "}\n",
              "\n",
              "// Max number of bytes which will be uploaded at a time.\n",
              "const MAX_PAYLOAD_SIZE = 100 * 1024;\n",
              "\n",
              "function _uploadFiles(inputId, outputId) {\n",
              "  const steps = uploadFilesStep(inputId, outputId);\n",
              "  const outputElement = document.getElementById(outputId);\n",
              "  // Cache steps on the outputElement to make it available for the next call\n",
              "  // to uploadFilesContinue from Python.\n",
              "  outputElement.steps = steps;\n",
              "\n",
              "  return _uploadFilesContinue(outputId);\n",
              "}\n",
              "\n",
              "// This is roughly an async generator (not supported in the browser yet),\n",
              "// where there are multiple asynchronous steps and the Python side is going\n",
              "// to poll for completion of each step.\n",
              "// This uses a Promise to block the python side on completion of each step,\n",
              "// then passes the result of the previous step as the input to the next step.\n",
              "function _uploadFilesContinue(outputId) {\n",
              "  const outputElement = document.getElementById(outputId);\n",
              "  const steps = outputElement.steps;\n",
              "\n",
              "  const next = steps.next(outputElement.lastPromiseValue);\n",
              "  return Promise.resolve(next.value.promise).then((value) => {\n",
              "    // Cache the last promise value to make it available to the next\n",
              "    // step of the generator.\n",
              "    outputElement.lastPromiseValue = value;\n",
              "    return next.value.response;\n",
              "  });\n",
              "}\n",
              "\n",
              "/**\n",
              " * Generator function which is called between each async step of the upload\n",
              " * process.\n",
              " * @param {string} inputId Element ID of the input file picker element.\n",
              " * @param {string} outputId Element ID of the output display.\n",
              " * @return {!Iterable<!Object>} Iterable of next steps.\n",
              " */\n",
              "function* uploadFilesStep(inputId, outputId) {\n",
              "  const inputElement = document.getElementById(inputId);\n",
              "  inputElement.disabled = false;\n",
              "\n",
              "  const outputElement = document.getElementById(outputId);\n",
              "  outputElement.innerHTML = '';\n",
              "\n",
              "  const pickedPromise = new Promise((resolve) => {\n",
              "    inputElement.addEventListener('change', (e) => {\n",
              "      resolve(e.target.files);\n",
              "    });\n",
              "  });\n",
              "\n",
              "  const cancel = document.createElement('button');\n",
              "  inputElement.parentElement.appendChild(cancel);\n",
              "  cancel.textContent = 'Cancel upload';\n",
              "  const cancelPromise = new Promise((resolve) => {\n",
              "    cancel.onclick = () => {\n",
              "      resolve(null);\n",
              "    };\n",
              "  });\n",
              "\n",
              "  // Wait for the user to pick the files.\n",
              "  const files = yield {\n",
              "    promise: Promise.race([pickedPromise, cancelPromise]),\n",
              "    response: {\n",
              "      action: 'starting',\n",
              "    }\n",
              "  };\n",
              "\n",
              "  cancel.remove();\n",
              "\n",
              "  // Disable the input element since further picks are not allowed.\n",
              "  inputElement.disabled = true;\n",
              "\n",
              "  if (!files) {\n",
              "    return {\n",
              "      response: {\n",
              "        action: 'complete',\n",
              "      }\n",
              "    };\n",
              "  }\n",
              "\n",
              "  for (const file of files) {\n",
              "    const li = document.createElement('li');\n",
              "    li.append(span(file.name, {fontWeight: 'bold'}));\n",
              "    li.append(span(\n",
              "        `(${file.type || 'n/a'}) - ${file.size} bytes, ` +\n",
              "        `last modified: ${\n",
              "            file.lastModifiedDate ? file.lastModifiedDate.toLocaleDateString() :\n",
              "                                    'n/a'} - `));\n",
              "    const percent = span('0% done');\n",
              "    li.appendChild(percent);\n",
              "\n",
              "    outputElement.appendChild(li);\n",
              "\n",
              "    const fileDataPromise = new Promise((resolve) => {\n",
              "      const reader = new FileReader();\n",
              "      reader.onload = (e) => {\n",
              "        resolve(e.target.result);\n",
              "      };\n",
              "      reader.readAsArrayBuffer(file);\n",
              "    });\n",
              "    // Wait for the data to be ready.\n",
              "    let fileData = yield {\n",
              "      promise: fileDataPromise,\n",
              "      response: {\n",
              "        action: 'continue',\n",
              "      }\n",
              "    };\n",
              "\n",
              "    // Use a chunked sending to avoid message size limits. See b/62115660.\n",
              "    let position = 0;\n",
              "    do {\n",
              "      const length = Math.min(fileData.byteLength - position, MAX_PAYLOAD_SIZE);\n",
              "      const chunk = new Uint8Array(fileData, position, length);\n",
              "      position += length;\n",
              "\n",
              "      const base64 = btoa(String.fromCharCode.apply(null, chunk));\n",
              "      yield {\n",
              "        response: {\n",
              "          action: 'append',\n",
              "          file: file.name,\n",
              "          data: base64,\n",
              "        },\n",
              "      };\n",
              "\n",
              "      let percentDone = fileData.byteLength === 0 ?\n",
              "          100 :\n",
              "          Math.round((position / fileData.byteLength) * 100);\n",
              "      percent.textContent = `${percentDone}% done`;\n",
              "\n",
              "    } while (position < fileData.byteLength);\n",
              "  }\n",
              "\n",
              "  // All done.\n",
              "  yield {\n",
              "    response: {\n",
              "      action: 'complete',\n",
              "    }\n",
              "  };\n",
              "}\n",
              "\n",
              "scope.google = scope.google || {};\n",
              "scope.google.colab = scope.google.colab || {};\n",
              "scope.google.colab._files = {\n",
              "  _uploadFiles,\n",
              "  _uploadFilesContinue,\n",
              "};\n",
              "})(self);\n",
              "</script> "
            ]
          },
          "metadata": {}
        },
        {
          "output_type": "stream",
          "name": "stdout",
          "text": [
            "Saving kaggle.json to kaggle.json\n"
          ]
        }
      ],
      "source": [
        "from google.colab import files\n",
        "files.upload()  # Use this to select the kaggle.json file from your computer\n",
        "!mkdir -p ~/.kaggle\n",
        "!cp kaggle.json ~/.kaggle/\n",
        "!chmod 600 ~/.kaggle/kaggle.json"
      ]
    },
    {
      "cell_type": "markdown",
      "metadata": {
        "id": "5i6u6_1v8ftX"
      },
      "source": [
        "Then use this code to automatically download the dataset into Colab."
      ]
    },
    {
      "cell_type": "code",
      "execution_count": null,
      "metadata": {
        "colab": {
          "base_uri": "https://localhost:8080/"
        },
        "id": "XjyVaVKF29Hx",
        "outputId": "205e506b-2a52-44f3-e87e-bce981b2d11f"
      },
      "outputs": [
        {
          "output_type": "stream",
          "name": "stdout",
          "text": [
            "Downloading adult-income-dataset.zip to /content\n",
            "\r  0% 0.00/652k [00:00<?, ?B/s]\n",
            "\r100% 652k/652k [00:00<00:00, 119MB/s]\n",
            "Archive:  /content/adult-income-dataset.zip\n",
            "  inflating: adult.csv               \n"
          ]
        }
      ],
      "source": [
        "!kaggle datasets download -d wenruliu/adult-income-dataset\n",
        "!unzip /content/adult-income-dataset.zip"
      ]
    },
    {
      "cell_type": "markdown",
      "metadata": {
        "id": "EXQnbZwt8rJK"
      },
      "source": [
        "**Task:** Determine the number of null entries!\n",
        "\n"
      ]
    },
    {
      "cell_type": "code",
      "execution_count": 5,
      "metadata": {
        "colab": {
          "base_uri": "https://localhost:8080/"
        },
        "id": "JtuEx6QW29c1",
        "outputId": "31fee73d-020c-4744-abd7-ecadb742097d"
      },
      "outputs": [
        {
          "output_type": "stream",
          "name": "stdout",
          "text": [
            "age                   0\n",
            "workclass          2799\n",
            "fnlwgt                0\n",
            "education             0\n",
            "educational-num       0\n",
            "marital-status        0\n",
            "occupation         2809\n",
            "relationship          0\n",
            "race                  0\n",
            "gender                0\n",
            "capital-gain          0\n",
            "capital-loss          0\n",
            "hours-per-week        0\n",
            "native-country      857\n",
            "income                0\n",
            "dtype: int64\n",
            "Number of NaN values: 6465\n"
          ]
        }
      ],
      "source": [
        "# Your code goes here!\n",
        "\n",
        "import pandas as pd\n",
        "\n",
        "# Load the dataset\n",
        "df = pd.read_csv('adult.csv')\n",
        "\n",
        "# Check for null or missing values\n",
        "df.replace('?', pd.NA, inplace = True)\n",
        "null_data = df.isnull().sum()\n",
        "\n",
        "# Print the total number of null entries per column\n",
        "print(null_data)\n",
        "\n",
        "# Total number of null entries across the entire DataFrame:\n",
        "nan_count = df.isnull().sum().sum()\n",
        "print('Number of NaN values:', nan_count)"
      ]
    },
    {
      "cell_type": "markdown",
      "metadata": {
        "id": "JpEcBdTUAYVN"
      },
      "source": [
        "**Question:** In many widely used datasets there are a lot of null entries. Propose 5 methods by which, one could deal with this problem. Briefly explain how do you decide which one to use in this problem."
      ]
    },
    {
      "cell_type": "markdown",
      "metadata": {
        "id": "l1u1pBHuAsSg"
      },
      "source": [
        "**Your answer:**\n",
        "\n",
        "When dealing with datasets that contain null entries, several strategies can be employed to handle these missing values effectively. The choice of method depends on the nature of the data, the extent of the missing values, the importance of preserving data points, and the type of analysis or machine learning models being applied. Here are five common methods to handle null entries:\n",
        "\n",
        "### 1. **Removing Data**\n",
        "- **Method**: Directly remove rows with null values or entire columns if a significant portion of the data is missing.\n",
        "- **When to Use**: This method is simple and effective if the dataset is large enough that dropping some data does not cause loss of important information. It’s especially useful when the proportion of missing data is small or when the missing data is not randomly distributed and thus might introduce bias.\n",
        "\n",
        "### 2. **Imputation Using Statistical Measures**\n",
        "- **Method**: Replace missing values with a statistical measure (mean, median, or mode) of the column.\n",
        "- **When to Use**: Suitable for numerical data when the missing data is random and does not form a significant portion of the dataset. Mean is typically used for normally distributed data, while median is preferred for skewed data. Mode is used for categorical data.\n",
        "\n",
        "### 3. **Predictive Imputation**\n",
        "- **Method**: Use other complete variables in the dataset to build a model predicting the missing values.\n",
        "- **When to Use**: When there are complex relationships between features, and other variables can predict the missing values accurately. This method can be computationally expensive and might lead to overfitting if not done carefully.\n",
        "\n",
        "### 4. **Using Algorithms that Support Missing Values**\n",
        "- **Method**: Employ algorithms that can handle missing values inherently, such as decision trees or random forests.\n",
        "- **When to Use**: When maintaining the integrity of the data without imputation is critical, and when it’s important to model the impact of having missing values.\n",
        "\n",
        "### 5. **Imputation Using Iterative Methods**\n",
        "- **Method**: Apply multivariate imputation methods like MICE (Multiple Imputation by Chained Equations) which models each feature with missing values as a function of other features in a round-robin fashion.\n",
        "- **When to Use**: When missing data is extensive and arbitrary, and the relationships between variables are complex. This method is suitable for handling both categorical and numerical data.\n",
        "\n",
        "### Deciding Which Method to Use:\n",
        "To decide which method to use for handling null values in the 'adult' income dataset, consider the following:\n",
        "\n",
        "- **Data Size and Quality**: If the dataset is large and missing values are few, removing data might be the simplest approach.\n",
        "- **Missing Data Pattern**: Analyze if the missingness is random or if it's concentrated in specific rows or columns. For instance, if high-income individuals consistently skip income-related questions, this non-random missingness might be better addressed through imputation.\n",
        "- **Impact on Analysis**: If maintaining the maximum amount of data is crucial for the analysis or the predictive model's performance, consider imputation. Statistical imputation is straightforward but consider more sophisticated methods like MICE for better predictions if relationships are complex.\n",
        "- **Type of Data**: Categorical data might need different treatment compared to numerical data, such as imputing modes or using classification algorithms for imputation.\n",
        "- **Model Requirements**: If the chosen analytical method or predictive model can handle missing values inherently, tailor the handling strategy to leverage this feature.\n",
        "\n",
        "By evaluating the context of the missing data along with the goals of your analysis, you can choose the most appropriate method to handle null values in your dataset."
      ]
    },
    {
      "cell_type": "markdown",
      "metadata": {
        "id": "eHhH-hkpAxFf"
      },
      "source": [
        "**Task:** Handle null entries using your best method."
      ]
    },
    {
      "cell_type": "code",
      "execution_count": 6,
      "metadata": {
        "colab": {
          "base_uri": "https://localhost:8080/"
        },
        "id": "5fVwWcjK29fk",
        "outputId": "e1370dd3-75c9-40dd-b690-f94a66ba22e5"
      },
      "outputs": [
        {
          "output_type": "stream",
          "name": "stdout",
          "text": [
            "age                0\n",
            "workclass          0\n",
            "fnlwgt             0\n",
            "education          0\n",
            "educational-num    0\n",
            "marital-status     0\n",
            "occupation         0\n",
            "relationship       0\n",
            "race               0\n",
            "gender             0\n",
            "capital-gain       0\n",
            "capital-loss       0\n",
            "hours-per-week     0\n",
            "native-country     0\n",
            "income             0\n",
            "dtype: int64\n"
          ]
        }
      ],
      "source": [
        "# Your code goes here!\n",
        "\n",
        "# Identify columns by data type\n",
        "numeric_cols = df.select_dtypes(include = ['float64', 'int64']).columns\n",
        "categorical_cols = df.select_dtypes(include = ['object', 'category']).columns\n",
        "\n",
        "# Impute numerical columns with the mean\n",
        "for col in numeric_cols:\n",
        "    df[col].fillna(df[col].mean(), inplace = True)\n",
        "\n",
        "# Impute categorical columns with the mode\n",
        "for col in categorical_cols:\n",
        "    df[col].fillna(df[col].mode()[0], inplace = True)\n",
        "\n",
        "# Check again for null values to confirm imputation\n",
        "null_data_after = df.isnull().sum()\n",
        "print(null_data_after)"
      ]
    },
    {
      "cell_type": "markdown",
      "metadata": {
        "id": "43k5cTorCJaV"
      },
      "source": [
        "**Task:** Convert categorical features to numerical values. Split the dataset with 80-20 portion. Normalize all the data using X_train. Use the built-in Logistic Regression function and GridSearchCV to train your model, and report the parameters, train and test accuracy of the best model."
      ]
    },
    {
      "cell_type": "code",
      "execution_count": 8,
      "metadata": {
        "colab": {
          "base_uri": "https://localhost:8080/"
        },
        "id": "Agj18Lcd-vyZ",
        "outputId": "24db370c-976c-4090-86ba-c4eebf1b3fdb"
      },
      "outputs": [
        {
          "output_type": "stream",
          "name": "stdout",
          "text": [
            "Best Model Parameters: {'C': 0.1, 'solver': 'liblinear'}\n",
            "Training Accuracy: 0.8510480382873084\n",
            "Test Accuracy: 0.8564847988535162\n"
          ]
        }
      ],
      "source": [
        "# Your code goes here!\n",
        "\n",
        "from sklearn.model_selection import train_test_split, GridSearchCV\n",
        "from sklearn.preprocessing import StandardScaler\n",
        "from sklearn.linear_model import LogisticRegression\n",
        "from sklearn.metrics import accuracy_score\n",
        "\n",
        "# Replace '?' with NaN and then drop these missing values or impute them\n",
        "df.replace('?', pd.NA, inplace = True)\n",
        "df.dropna(inplace = True)  # You could also choose to impute these values\n",
        "\n",
        "# Convert categorical variables to dummy variables\n",
        "df = pd.get_dummies(df, drop_first = True)\n",
        "\n",
        "# Split the dataset into features and the target variable\n",
        "X = df.drop('income_>50K', axis = 1)\n",
        "y = df['income_>50K']\n",
        "\n",
        "# Split the data into training and testing sets\n",
        "X_train, X_test, y_train, y_test = train_test_split(X, y, test_size = 0.2, random_state = 42)\n",
        "\n",
        "# Normalize the data\n",
        "scaler = StandardScaler()\n",
        "X_train = scaler.fit_transform(X_train)\n",
        "X_test = scaler.transform(X_test)\n",
        "\n",
        "# Define the model and parameters for GridSearchCV\n",
        "model = LogisticRegression(max_iter = 1000)\n",
        "param_grid = {\n",
        "    'C': [0.01, 0.1, 1, 10],\n",
        "    'solver': ['liblinear', 'lbfgs']\n",
        "}\n",
        "\n",
        "# Create GridSearchCV object and fit it\n",
        "grid_search = GridSearchCV(estimator = model, param_grid = param_grid, cv = 5, scoring = 'accuracy')\n",
        "grid_search.fit(X_train, y_train)\n",
        "\n",
        "# Best model parameters and accuracies\n",
        "best_model = grid_search.best_estimator_\n",
        "train_accuracy = accuracy_score(y_train, best_model.predict(X_train))\n",
        "test_accuracy = accuracy_score(y_test, best_model.predict(X_test))\n",
        "\n",
        "print(\"Best Model Parameters:\", grid_search.best_params_)\n",
        "print(\"Training Accuracy:\", train_accuracy)\n",
        "print(\"Test Accuracy:\", test_accuracy)"
      ]
    },
    {
      "cell_type": "markdown",
      "metadata": {
        "id": "6Lzr2lqXDQ1T"
      },
      "source": [
        "**Task:** To try a different route, split X_train into $i$ parts, and train $i$ separate models on these parts. Now propose and implement 3 different *ensemble methods* to derive the global models' prediction for X_test using the results(not necessarily predictions!) of the $i$ models. Firstly, set $i=10$ to find the method with the best test accuracy(the answer is not general!). You must Use your own Logistic Regression model.(You might want to modify it a little bit for this part!)"
      ]
    },
    {
      "cell_type": "code",
      "execution_count": 9,
      "metadata": {
        "id": "K9D1jlstF9nF"
      },
      "outputs": [],
      "source": [
        "# Your code goes here!\n",
        "\n",
        "import numpy as np\n",
        "\n",
        "class MyLogisticRegression:\n",
        "    def __init__(self, learning_rate = 0.01, n_iter = 100):\n",
        "        self.learning_rate = learning_rate\n",
        "        self.n_iter = n_iter\n",
        "        self.weights = None\n",
        "        self.bias = None\n",
        "\n",
        "    def _sigmoid(self, z):\n",
        "        return 1 / (1 + np.exp(-z))\n",
        "\n",
        "    def fit(self, X, y):\n",
        "        n_samples, n_features = X.shape\n",
        "        self.weights = np.zeros(n_features)\n",
        "        self.bias = 0\n",
        "\n",
        "        for _ in range(self.n_iter):\n",
        "            linear_model = np.dot(X, self.weights) + self.bias\n",
        "            y_predicted = self._sigmoid(linear_model)\n",
        "            dw = (1 / n_samples) * np.dot(X.T, (y_predicted - y))\n",
        "            db = (1 / n_samples) * np.sum(y_predicted - y)\n",
        "            self.weights -= self.learning_rate * dw\n",
        "            self.bias -= self.learning_rate * db\n",
        "\n",
        "    def predict_proba(self, X):\n",
        "        linear_model = np.dot(X, self.weights) + self.bias\n",
        "        probabilities = self._sigmoid(linear_model)\n",
        "        return probabilities\n",
        "\n",
        "    def predict(self, X):\n",
        "        probabilities = self.predict_proba(X)\n",
        "        return np.where(probabilities > 0.5, 1, 0)"
      ]
    },
    {
      "cell_type": "code",
      "execution_count": 10,
      "metadata": {
        "colab": {
          "base_uri": "https://localhost:8080/"
        },
        "id": "VDisFO9xZCLS",
        "outputId": "f13786ea-a2f4-497b-c7e0-05b752289e9b"
      },
      "outputs": [
        {
          "output_type": "stream",
          "name": "stdout",
          "text": [
            "Majority Voting Accuracy: 0.8040741119868974\n",
            "Average Probabilities Accuracy: 0.8039717473641109\n"
          ]
        }
      ],
      "source": [
        "from sklearn.model_selection import KFold\n",
        "from sklearn.metrics import accuracy_score\n",
        "\n",
        "# Assuming X_train and y_train are defined\n",
        "kf = KFold(n_splits = 10)\n",
        "models = []\n",
        "predictions = []\n",
        "probabilities = []\n",
        "\n",
        "for train_index, val_index in kf.split(X_train):\n",
        "    X_train_fold, X_val_fold = X_train[train_index], X_train[val_index]\n",
        "    # Using .iloc for pandas Series or DataFrame to ensure correct positional indexing\n",
        "    y_train_fold, y_val_fold = y_train.iloc[train_index], y_train.iloc[val_index]\n",
        "\n",
        "    model = MyLogisticRegression(learning_rate = 0.01, n_iter = 100)\n",
        "    model.fit(X_train_fold, y_train_fold)\n",
        "    models.append(model)\n",
        "    predictions.append(model.predict(X_test))\n",
        "    probabilities.append(model.predict_proba(X_test))\n",
        "\n",
        "# Ensemble method 1: Majority Voting\n",
        "voting_results = np.array(predictions).T  # Transpose to get predictions per sample across models\n",
        "majority_vote = np.array([np.bincount(votes, minlength = 2).argmax() for votes in voting_results])\n",
        "\n",
        "# Ensemble method 2: Averaging Probabilities\n",
        "average_probabilities = np.mean(probabilities, axis = 0)\n",
        "average_predictions = (average_probabilities > 0.5).astype(int)\n",
        "\n",
        "# Evaluate each ensemble method\n",
        "print(\"Majority Voting Accuracy:\", accuracy_score(y_test, majority_vote))\n",
        "print(\"Average Probabilities Accuracy:\", accuracy_score(y_test, average_predictions))"
      ]
    },
    {
      "cell_type": "markdown",
      "metadata": {
        "id": "9QS9HYJ5FW1T"
      },
      "source": [
        "**Question:** Explain your proposed methods and the reason you decided to use them!"
      ]
    },
    {
      "cell_type": "markdown",
      "metadata": {
        "id": "6hCBQuAeF46a"
      },
      "source": [
        "**Your answer:**\n",
        "\n",
        "The two ensemble methods implemented—**Majority Voting** and **Averaging Probabilities**—are both standard techniques in ensemble learning. These methods are designed to improve the predictive performance by combining the predictions of multiple models. The idea is to capitalize on the strength of each individual model and mitigate their weaknesses, potentially leading to better generalization on unseen data. Here’s a closer look at each method and the rationale for using them:\n",
        "\n",
        "### 1. **Majority Voting**\n",
        "- **Description**: In this method, each of the 10 models trained on different partitions of the training data casts a \"vote\" for its predicted class. The final prediction for each sample is determined by a simple majority rule: the class that gets the most votes across the models is chosen as the final prediction for that sample.\n",
        "- **Rationale**: Majority voting is robust against overfitting, as it requires a consensus among multiple models to decide on the outcome. It’s particularly effective when models are diverse, which is often the case when they are trained on different subsets of the data. This diversity helps in reducing errors that might occur due to the noise or specific biases in individual training subsets.\n",
        "\n",
        "### 2. **Averaging Probabilities**\n",
        "- **Description**: Instead of voting on the final class, each model outputs a probability of the sample belonging to the positive class. These probabilities are then averaged, and the final classification is determined by whether the average probability exceeds the threshold of 0.5.\n",
        "- **Rationale**: Averaging probabilities takes into account the confidence of each model's predictions rather than just the predicted class. It smooths out predictions, reducing the variance among the model outputs. This method is particularly useful when the decision boundary is not clear-cut, and models might slightly differ in their estimated probabilities.\n",
        "\n",
        "### Decision to Use These Methods\n",
        "These methods were chosen because:\n",
        "- **Simplicity and Effectiveness**: Both methods are straightforward to implement and understand. They are well-established as effective techniques for improving prediction accuracy and robustness in ensemble learning scenarios.\n",
        "- **Diversity from Training on Different Subsets**: Training each model on a different subset of the training data introduces a level of diversity in the perspectives of the models, which is a fundamental aspect that can make ensemble methods outperform individual models.\n",
        "- **Performance Balance**: These methods balance between avoiding too much complexity in combining model outputs (like weighted averages or stacking which require additional tuning) and leveraging the collective power of multiple models.\n",
        "\n",
        "### Results and Implications\n",
        "The accuracies of Majority Voting (80.41%) and Averaging Probabilities (80.40%) were very close, indicating that both methods effectively harnessed the predictions from the individual models. The slight difference could be attributed to how each method deals with model confidence and error margins.\n",
        "\n",
        "Given that the results are similar, the choice between these methods might come down to the specific requirements of the application in terms of interpretability and computational efficiency:\n",
        "- **Majority Voting** is highly interpretable as it mimics a democratic voting system.\n",
        "- **Averaging Probabilities** can be more sensitive to the nuances in model confidence about the predictions.\n",
        "\n",
        "This ensemble approach, especially when models are trained on different subsets, is generally more robust and reliable than relying on a single model, thus making it a preferred choice in many predictive modeling tasks."
      ]
    },
    {
      "cell_type": "markdown",
      "metadata": {
        "id": "jjSREvg4FTHf"
      },
      "source": [
        "**Task:** Now, for your best method, change $i$ from 2 to 100 and report $i$, train and test accuracy of the best model. Also, plot test and train accuracy for $2\\leq i\\leq100$."
      ]
    },
    {
      "cell_type": "code",
      "source": [
        "import numpy as np\n",
        "print(np.exp(1))  # This should print the value of e"
      ],
      "metadata": {
        "id": "qq-akdD_lD4N",
        "colab": {
          "base_uri": "https://localhost:8080/"
        },
        "outputId": "084fca62-22ec-4718-f606-04bfaa617652"
      },
      "execution_count": 11,
      "outputs": [
        {
          "output_type": "stream",
          "name": "stdout",
          "text": [
            "2.718281828459045\n"
          ]
        }
      ]
    },
    {
      "cell_type": "code",
      "execution_count": 31,
      "metadata": {
        "colab": {
          "base_uri": "https://localhost:8080/",
          "height": 487
        },
        "id": "tfKS-Jq0-v4P",
        "outputId": "b62fb51e-49a7-44f1-a246-fc348160f4a0"
      },
      "outputs": [
        {
          "output_type": "display_data",
          "data": {
            "text/plain": [
              "<Figure size 1000x500 with 1 Axes>"
            ],
            "image/png": "[encoded data removed]"
          },
          "metadata": {}
        }
      ],
      "source": [
        "import numpy as np\n",
        "import matplotlib.pyplot as plt\n",
        "\n",
        "class MyLogisticRegression:\n",
        "    def __init__(self, learning_rate = 0.01, n_iter = 100):\n",
        "        self.learning_rate = learning_rate\n",
        "        self.n_iter = n_iter\n",
        "        self.weights = None\n",
        "        self.bias = None\n",
        "\n",
        "    def _sigmoid(self, z):\n",
        "        return 1 / (1 + np.exp(-z))\n",
        "\n",
        "    def fit(self, X, y):\n",
        "        self.weights = np.zeros(X.shape[1], dtype = np.float64)\n",
        "        self.bias = 0.0\n",
        "\n",
        "        for _ in range(self.n_iter):\n",
        "            linear_model = np.dot(X, self.weights) + self.bias\n",
        "            y_predicted = self._sigmoid(linear_model)\n",
        "            error = y_predicted - y\n",
        "            dw = np.dot(X.T, error) / len(X)\n",
        "            db = np.sum(error) / len(X)\n",
        "\n",
        "            self.weights -= self.learning_rate * dw\n",
        "            self.bias -= self.learning_rate * db\n",
        "\n",
        "    def predict_proba(self, X):\n",
        "        linear_model = np.dot(X, self.weights) + self.bias\n",
        "        return self._sigmoid(linear_model)\n",
        "\n",
        "    def predict(self, X):\n",
        "        return (self.predict_proba(X) > 0.5).astype(int)\n",
        "\n",
        "\n",
        "np.random.seed(0)  # For reproducibility\n",
        "df = pd.DataFrame(np.random.randint(0, 2, size=(100, 4)), columns=['Feature1', 'Feature2', 'Feature3', 'income_>50K'])\n",
        "X = df.drop('income_>50K', axis=1).values\n",
        "y = df['income_>50K'].values\n",
        "\n",
        "split_range = range(2, 21)  # Reduce the range for a quicker run and demonstration\n",
        "train_accuracies = []\n",
        "test_accuracies = []\n",
        "\n",
        "# K-Fold cross-validation across different numbers of splits\n",
        "for i in split_range:\n",
        "    kf = KFold(n_splits = i, shuffle = True, random_state = 42)\n",
        "    local_train_acc = []\n",
        "    local_test_acc = []\n",
        "\n",
        "    for train_index, test_index in kf.split(X):\n",
        "        X_train, X_test = X[train_index], X[test_index]\n",
        "        y_train, y_test = y[train_index], y[test_index]\n",
        "\n",
        "        model = MyLogisticRegression(learning_rate = 0.01, n_iter = 100)\n",
        "        model.fit(X_train, y_train)\n",
        "        train_pred = model.predict(X_train)\n",
        "        test_pred = model.predict(X_test)\n",
        "\n",
        "        local_train_acc.append(accuracy_score(y_train, train_pred))\n",
        "        local_test_acc.append(accuracy_score(y_test, test_pred))\n",
        "\n",
        "    train_accuracies.append(np.mean(local_train_acc))\n",
        "    test_accuracies.append(np.mean(local_test_acc))\n",
        "\n",
        "# Plotting results\n",
        "plt.figure(figsize = (10, 5))\n",
        "plt.plot(split_range, train_accuracies, label='Train Accuracy')\n",
        "plt.plot(split_range, test_accuracies, label='Test Accuracy')\n",
        "plt.title('Train and Test Accuracies vs. Number of Splits')\n",
        "plt.xlabel('Number of Splits (i)')\n",
        "plt.ylabel('Accuracy')\n",
        "plt.legend()\n",
        "plt.grid(True)\n",
        "plt.show()"
      ]
    },
    {
      "cell_type": "markdown",
      "metadata": {
        "id": "BWV0YUgRGg1p"
      },
      "source": [
        "**Question:** Analyze the results."
      ]
    },
    {
      "cell_type": "markdown",
      "metadata": {
        "id": "AsM-qM6cAhfl"
      },
      "source": [
        "**Your Answer:**\n",
        "Analyzing the results depicted in the graph, here are a few observations and potential conclusions:\n",
        "\n",
        "1. **Variance in Test Accuracy**: The test accuracy fluctuates considerably more than the train accuracy as the number of splits increases. This could be due to the fact that with more splits, each test set is smaller, and the model's performance on these smaller test sets may vary more widely.\n",
        "\n",
        "2. **Stability in Train Accuracy**: The training accuracy remains relatively stable across the different number of splits. This suggests that the model has a consistent performance on the training data, which is a larger dataset compared to each individual test set in the cross-validation.\n",
        "\n",
        "3. **General Trends**: Both training and testing accuracies do not show a clear trend of improvement or deterioration as the number of splits increases. Ideally, as the number of splits increases, the variance in the test accuracy should decrease and stabilize, but this isn't clearly observed in the provided graph.\n",
        "\n",
        "4. **Overfitting or Underfitting**: Since there is no clear gap between the training and testing accuracy, it's difficult to conclusively say if the model is overfitting or underfitting based on this graph alone. However, the close performance on training and testing sets suggests the model has generalized fairly well.\n",
        "\n",
        "5. **Optimal Number of Splits (i)**: It's challenging to pinpoint the optimal number of splits from the given graph because there is no clear peak in test accuracy. To find the best model, one would need to analyze the specific values of accuracies associated with each number of splits and select the one with the highest test accuracy that doesn't compromise training accuracy significantly.\n",
        "\n",
        "6. **Model Complexity**: Since the accuracies are not high, there might be a need to look into the model complexity. It's possible that the logistic regression model is too simple for the dataset at hand. You might need to consider more complex models or feature engineering to improve performance.\n",
        "\n",
        "7. **Quality of Data**: The quality and features of the data could also play a role. If the features don't capture enough variability or the relationships between the features and target are non-linear, logistic regression may not perform well.\n",
        "\n",
        "8. **Next Steps**: To improve the model, consider experimenting with different learning rates, increasing the number of iterations, adding regularization, or using more complex models. Additionally, feature selection and engineering could be crucial in improving the model's performance."
      ]
    }
  ],
  "metadata": {
    "colab": {
      "provenance": []
    },
    "kernelspec": {
      "display_name": "Python 3",
      "name": "python3"
    },
    "language_info": {
      "name": "python"
    }
  },
  "nbformat": 4,
  "nbformat_minor": 0
}